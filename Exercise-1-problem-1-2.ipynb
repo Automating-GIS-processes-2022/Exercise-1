{
  "cells": [
    {
      "cell_type": "markdown",
      "metadata": {
        "tags": [],
        "deletable": false,
        "editable": false
      },
      "source": [
        "## Problem 1: Creating basic geometries (*5 points*)\n",
        "\n",
        "In this problem, you will create custom functions that create geometry objects. \n",
        "We start with a very simple function, and proceed to creating functions that can handle invalid input values.    "
      ]
    },
    {
      "cell_type": "markdown",
      "metadata": {
        "jp-MarkdownHeadingCollapsed": true,
        "tags": [],
        "deletable": false,
        "editable": false
      },
      "source": [
        "\n",
        "----\n",
        "\n",
        "#### (1a)\n",
        "\n",
        "Create a function called **`create_point_geometry()`** that accepts two parameters, `x_coord` and `y_coord`. \n",
        "The function should return a `shapely.geometry.Point` geometry object. "
      ]
    },
    {
      "cell_type": "code",
      "execution_count": null,
      "metadata": {
        "tags": []
      },
      "outputs": [],
      "source": [
        "# ADD YOUR OWN CODE HERE\n",
        ""
      ]
    },
    {
      "cell_type": "markdown",
      "metadata": {
        "deletable": false,
        "editable": false
      },
      "source": [
        "Test your function by running the following code cell:"
      ]
    },
    {
      "cell_type": "code",
      "execution_count": null,
      "metadata": {
        "deletable": false,
        "editable": false
      },
      "outputs": [],
      "source": [
        "# NON-EDITABLE CODE CELL FOR TESTING YOUR SOLUTION\n",
        "point1 = create_point_geometry(0.0, 1.1)\n",
        "print(point1)\n",
        "print(point1.geom_type)"
      ]
    },
    {
      "cell_type": "markdown",
      "metadata": {
        "jp-MarkdownHeadingCollapsed": true,
        "tags": [],
        "deletable": false,
        "editable": false
      },
      "source": [
        "\n",
        "----\n",
        "\n",
        "#### (1b)\n",
        "\n",
        "Create a function called **`create_line_geometry()`** that takes a list of `shapely.geometry.Point`s as\n",
        "an argument, and returns a `shapely.geometry.LineString` object of those input points.\n",
        "\n",
        "In addition, you should validate the function input using `assert` statements (see \n",
        "[lesson 6 of the Geo-Python course](https://geo-python-site.readthedocs.io/en/latest/notebooks/L6/gcp-5-assertions.html)\n",
        "and the [hints for this exercise](https://autogis-site.readthedocs.io/en/latest/lessons/L1/exercise-1.html#hints)):\n",
        "\n",
        "  - Inside the function, first check that the input is a **list**. If something else than a list is\n",
        "    passed, raise the following error: \"Input should be a list\".\n",
        "  - Use `assert` to check that the input list contains **at least** two values. Otherwise, raise the error: \"At\n",
        "    minimum two points are required for a LineString\"\n",
        "  - *(optional)* Use `assert` to check that all values in the input list are `shapely.geometry.Point`s.\n",
        "    Otherwise, raise the error: \"All list values must be of type shapely.geometry.Point\"\n",
        "  "
      ]
    },
    {
      "cell_type": "code",
      "execution_count": null,
      "metadata": {
        "tags": []
      },
      "outputs": [],
      "source": [
        "# ADD YOUR OWN CODE HERE\n",
        ""
      ]
    },
    {
      "cell_type": "markdown",
      "metadata": {
        "deletable": false,
        "editable": false
      },
      "source": [
        "Demonstrate how to use your function:\n",
        "Create a line object with two points, `Point(45.2, 22.34)` and `Point(100.22, -3.20)`, and store the result in a variable called `line1`."
      ]
    },
    {
      "cell_type": "code",
      "execution_count": null,
      "metadata": {},
      "outputs": [],
      "source": [
        "# ADD YOUR OWN CODE HERE\n",
        ""
      ]
    },
    {
      "cell_type": "markdown",
      "metadata": {
        "deletable": false,
        "editable": false
      },
      "source": [
        "Run this code cell to check your solution:"
      ]
    },
    {
      "cell_type": "code",
      "execution_count": null,
      "metadata": {
        "deletable": false,
        "editable": false
      },
      "outputs": [],
      "source": [
        "# NON-EDITABLE CODE CELL FOR TESTING YOUR SOLUTION\n",
        "print(line1)\n",
        "print(line1.geom_type)"
      ]
    },
    {
      "cell_type": "markdown",
      "metadata": {
        "deletable": false,
        "editable": false
      },
      "source": [
        "Check if your function checks the input correctly by running this code cell:"
      ]
    },
    {
      "cell_type": "code",
      "execution_count": null,
      "metadata": {
        "deletable": false,
        "editable": false
      },
      "outputs": [],
      "source": [
        "# NON-EDITABLE CODE CELL FOR TESTING YOUR SOLUTION\n",
        "try:\n",
        "    # Pass something else than a list\n",
        "    create_line_geometry(\"Give me a line!\")\n",
        "except AssertionError as exception:\n",
        "    print(f\"The function (correctly) detected an error. The error message was \u2018{exception.args[0]}\u2019\")\n",
        "except Exception as exception:\n",
        "    raise exception"
      ]
    },
    {
      "cell_type": "markdown",
      "metadata": {
        "jp-MarkdownHeadingCollapsed": true,
        "tags": [],
        "deletable": false,
        "editable": false
      },
      "source": [
        "\n",
        "----\n",
        "\n",
        "#### (1c)\n",
        "\n",
        "Create a function **`create_polygon_geometry()`** that accepts one parameter `coordinates`. `coordinates` should be *a list of\n",
        "coordinate tuples*. The function should create and return a `shapely.geometry.Polygon` object based on these coordinates.  \n",
        "\n",
        "Again, use `assert` statements to ensure the input arguments are valid:\n",
        "\n",
        "  - first check that the input is a **list**. If something else than a list is\n",
        "    passed, raise the following error: \"Input should be a list\".\n",
        "  - Check that the input list contains **at least three values**. Otherwise, raise the error: \"At\n",
        "    minimum three points are required for a polygon\"\n",
        "  - Check that all values in the input list are tuples of two values.\n",
        "    Otherwise, raise the error: \"All list values must be coordinate tuples\"\n",
        "  - *(optional)* check that all tuples\u2019 values are instances of either `int` or `float`.\n",
        "\n",
        "*(Optional)* Write the function in a way that also allows the input to be a list of `shapely.geometry.Point`s.\n",
        "If `coords` contains `shapely.geometry.Point` objects, return a polygon based on these points.\n",
        "If the input is neither a list of tuples, nor a list of Points, raise an appropriate error message.\n",
        "  "
      ]
    },
    {
      "cell_type": "code",
      "execution_count": null,
      "metadata": {},
      "outputs": [],
      "source": [
        "# ADD YOUR OWN CODE HERE\n",
        ""
      ]
    },
    {
      "cell_type": "markdown",
      "metadata": {
        "deletable": false,
        "editable": false
      },
      "source": [
        "Demonstrate how to use the function. \n",
        "For example, create a Polygon `polygon1` with three points: `(45.2, 22.34)`, `(100.22, -3.20)`, `(70.0, 10.20)`."
      ]
    },
    {
      "cell_type": "code",
      "execution_count": null,
      "metadata": {},
      "outputs": [],
      "source": [
        "# ADD YOUR OWN CODE HERE\n",
        ""
      ]
    },
    {
      "cell_type": "markdown",
      "metadata": {
        "deletable": false,
        "editable": false
      },
      "source": [
        "Use the following code cell to test your solution:"
      ]
    },
    {
      "cell_type": "code",
      "execution_count": null,
      "metadata": {
        "deletable": false,
        "editable": false
      },
      "outputs": [],
      "source": [
        "# NON-EDITABLE CODE CELL FOR TESTING YOUR SOLUTION\n",
        "print(polygon1)\n",
        "print(polygon1.geom_type)"
      ]
    },
    {
      "cell_type": "markdown",
      "metadata": {
        "deletable": false,
        "editable": false
      },
      "source": [
        "Check if your function checks the length of the input correctly by running this code cell:"
      ]
    },
    {
      "cell_type": "code",
      "execution_count": null,
      "metadata": {
        "deletable": false,
        "editable": false
      },
      "outputs": [],
      "source": [
        "# NON-EDITABLE CODE CELL FOR TESTING YOUR SOLUTION\n",
        "try:\n",
        "    # Pass something else than a list\n",
        "    create_polygon_geometry(\"Give me a polygon\")\n",
        "except AssertionError as exception:\n",
        "    print(f\"The function (correctly) detected an error. The error message was \u2018{exception.args[0]}\u2019\")\n",
        "except Exception as exception:\n",
        "    raise exception"
      ]
    },
    {
      "cell_type": "markdown",
      "metadata": {
        "deletable": false,
        "editable": false
      },
      "source": [
        "\n",
        "----\n",
        "\n",
        "#### Done!\n",
        "\n",
        "That\u2019s it. Now you are ready to continue with Problem 2. \n",
        "\n",
        "Remember to commit your code using `git` after each major code change (for example, after solving each problem). Remember also to upload (push) your files to your **own** personal GitHub repository for Exercise-1.\n"
      ]
    },
    {
      "cell_type": "markdown",
      "metadata": {
        "deletable": false,
        "editable": false
      },
      "source": [
        "## Problem 2: Attributes of geometries (*5 points*)\n",
        "\n",
        "In this problem, we look at the geometric properties of geometries, and how to access them."
      ]
    },
    {
      "cell_type": "markdown",
      "metadata": {
        "jp-MarkdownHeadingCollapsed": true,
        "tags": [],
        "deletable": false,
        "editable": false
      },
      "source": [
        "\n",
        "----\n",
        "\n",
        "#### (2a)\n",
        "\n",
        "Create a function called **`get_centroid()`** that accepts one parameter, `geom`. \n",
        "The function should take any kind of Shapely\u2019s geometry objects (any instance of `shapely.geometry.base.BaseGeometry`)\n",
        "as an input, and return the centroid of that geometry. \n",
        "\n",
        "Make sure to validate the function\u2019s input arguments using `assert` statements:\n",
        "\n",
        "  - check that the input is a `shapely.geometry.base.BaseGeometry` or one of its child classes.\n",
        "    Otherwise, raise the error \"Input must be a `shapely` geometry\".\n"
      ]
    },
    {
      "cell_type": "code",
      "execution_count": null,
      "metadata": {},
      "outputs": [],
      "source": [
        "# ADD YOUR OWN CODE HERE\n",
        ""
      ]
    },
    {
      "cell_type": "markdown",
      "metadata": {
        "deletable": false,
        "editable": false
      },
      "source": [
        "Test and demonstrate the usage of the function. You can, for example, create shapely objects using the functions you created in problem 1 and print out information about their centroids:\n"
      ]
    },
    {
      "cell_type": "code",
      "execution_count": null,
      "metadata": {},
      "outputs": [],
      "source": [
        "# ADD YOUR OWN CODE HERE\n",
        ""
      ]
    },
    {
      "cell_type": "code",
      "execution_count": null,
      "metadata": {
        "deletable": false,
        "editable": false
      },
      "outputs": [],
      "source": [
        "# NON-EDITABLE CODE CELL FOR TESTING YOUR SOLUTION\n",
        "centroid = get_centroid(polygon1)\n",
        "print(centroid)"
      ]
    },
    {
      "cell_type": "markdown",
      "metadata": {
        "deletable": false,
        "editable": false
      },
      "source": [
        "Check that the assertion error works correctly:"
      ]
    },
    {
      "cell_type": "code",
      "execution_count": null,
      "metadata": {
        "deletable": false,
        "editable": false
      },
      "outputs": [],
      "source": [
        "# NON-EDITABLE CODE CELL FOR TESTING YOUR SOLUTION\n",
        "try:\n",
        "    # Pass something else than a Shapely geometry\n",
        "    get_centroid(\"Give me a centroid!\")\n",
        "except AssertionError as exception:\n",
        "    print(f\"The function (correctly) detected an error. The error message was \u2018{exception.args[0]}\u2019\")\n",
        "except Exception as exception:\n",
        "    raise exception"
      ]
    },
    {
      "cell_type": "markdown",
      "metadata": {
        "jp-MarkdownHeadingCollapsed": true,
        "tags": [],
        "deletable": false,
        "editable": false
      },
      "source": [
        "\n",
        "----\n",
        "\n",
        "#### (2b)\n",
        "\n",
        "Create a function **`get_area()`** accepting one parameter `polygon`. \n",
        "\n",
        "The function should accept a `shapely.geometry.Polygon` and return its area. \n",
        "Again, use `assert` to make sure the input values are valid, in particular, check that:\n",
        "- the input is a `shapely.geometry.Polygon`. If the argument is anything else, \n",
        "  raise an error: \"Input should be a `shapely.geometry.Polygon`\"."
      ]
    },
    {
      "cell_type": "code",
      "execution_count": null,
      "metadata": {},
      "outputs": [],
      "source": [
        "# ADD YOUR OWN CODE HERE\n",
        ""
      ]
    },
    {
      "cell_type": "markdown",
      "metadata": {
        "deletable": false,
        "editable": false
      },
      "source": [
        "Test and demonstrate how to use the function:"
      ]
    },
    {
      "cell_type": "code",
      "execution_count": null,
      "metadata": {},
      "outputs": [],
      "source": [
        "# ADD YOUR OWN CODE HERE\n",
        ""
      ]
    },
    {
      "cell_type": "code",
      "execution_count": null,
      "metadata": {
        "deletable": false,
        "editable": false
      },
      "outputs": [],
      "source": [
        "# NON-EDITABLE CODE CELL FOR TESTING YOUR SOLUTION\n",
        "area = get_area(polygon1)\n",
        "print(round(area, 2))"
      ]
    },
    {
      "cell_type": "markdown",
      "metadata": {
        "deletable": false,
        "editable": false
      },
      "source": [
        "Check that the assertion works:"
      ]
    },
    {
      "cell_type": "code",
      "execution_count": null,
      "metadata": {
        "deletable": false,
        "editable": false
      },
      "outputs": [],
      "source": [
        "# NON-EDITABLE CODE CELL FOR TESTING YOUR SOLUTION\n",
        "try:\n",
        "    # Pass something else than a Shapely geometry\n",
        "    get_area(\"Give me an area!\")\n",
        "except AssertionError as exception:\n",
        "    print(f\"The function (correctly) detected an error. The error message was \u2018{exception.args[0]}\u2019\")\n",
        "except Exception as exception:\n",
        "    raise exception"
      ]
    },
    {
      "cell_type": "markdown",
      "metadata": {
        "jp-MarkdownHeadingCollapsed": true,
        "tags": [],
        "deletable": false,
        "editable": false
      },
      "source": [
        "\n",
        "----\n",
        "\n",
        "#### (2c)\n",
        "\n",
        "Create a function **`get_length()`** accepting one parameter, `geometry`. \n",
        "\n",
        "The function should accept either a `shapely.geometry.LineString` or a `shapely.geometry.Polygon` as input.\n",
        "Check the type of the input and return the length of the line if input is a LineString and length of the\n",
        "exterior ring if the input is a Polygon. \n",
        "\n",
        "If something else is passed to the function, raise an error \"\u2018geometry\u2019 should be either a LineString or a Polygon\". Use `assert` or (advanced, optional) [raise a `ValueError` exception](https://docs.python.org/3/tutorial/errors.html#handling-exceptions).\n"
      ]
    },
    {
      "cell_type": "code",
      "execution_count": null,
      "metadata": {},
      "outputs": [],
      "source": [
        "# ADD YOUR OWN CODE HERE\n",
        ""
      ]
    },
    {
      "cell_type": "markdown",
      "metadata": {
        "deletable": false,
        "editable": false
      },
      "source": [
        "Test and demonstrate the usage of the function:"
      ]
    },
    {
      "cell_type": "code",
      "execution_count": null,
      "metadata": {},
      "outputs": [],
      "source": [
        "# ADD YOUR OWN CODE HERE\n",
        ""
      ]
    },
    {
      "cell_type": "code",
      "execution_count": null,
      "metadata": {
        "deletable": false,
        "editable": false
      },
      "outputs": [],
      "source": [
        "# NON-EDITABLE CODE CELL FOR TESTING YOUR SOLUTION\n",
        "line_length = get_length(line1)\n",
        "print(\"Line length:\", round(line_length,2))\n",
        "\n",
        "poly_exterior_length = get_length(polygon1)\n",
        "print(\"Polygon exterior length:\", round(poly_exterior_length,2))\n",
        "\n",
        "try:\n",
        "    # Pass something else than a Shapely LineString or Polygon\n",
        "    get_length(Point(1,2))\n",
        "except (AssertionError, ValueError) as exception:\n",
        "    print(f\"The function (correctly) detected an error. The error message was \u2018{exception.args[0]}\u2019\")\n",
        "except Exception as exception:\n",
        "    raise exception"
      ]
    },
    {
      "cell_type": "markdown",
      "metadata": {
        "jp-MarkdownHeadingCollapsed": true,
        "tags": [],
        "deletable": false,
        "editable": false
      },
      "source": [
        "\n",
        "----\n",
        "\n",
        "## Docstrings\n",
        "\n",
        "Did you add a docstring to all the functions you defined? If not, add them now :) A short one-line docstring is enough in this exercise."
      ]
    },
    {
      "cell_type": "markdown",
      "metadata": {
        "deletable": false,
        "editable": false
      },
      "source": [
        "You can run the code cell below to check all the docstrings:"
      ]
    },
    {
      "cell_type": "code",
      "execution_count": null,
      "metadata": {
        "deletable": false,
        "editable": false
      },
      "outputs": [],
      "source": [
        "# NON-EDITABLE CODE CELL FOR TESTING YOUR SOLUTION\n",
        "\n",
        "# List all functions we created\n",
        "functions = [\n",
        "    create_point_geometry,\n",
        "    create_line_geometry,\n",
        "    create_polygon_geometry,\n",
        "    get_centroid,\n",
        "    get_area,\n",
        "    get_length\n",
        "]\n",
        "\n",
        "print(\"My functions:\\n\")\n",
        "\n",
        "for function in functions:\n",
        "    # print function name and docstring:\n",
        "    print(\"-\", function.__name__ +\":\", function.__doc__)"
      ]
    },
    {
      "cell_type": "markdown",
      "metadata": {
        "deletable": false,
        "editable": false
      },
      "source": [
        "\n",
        "----\n",
        "\n",
        "Don\u2019t forget to upload your code and edits to your **own** personal GitHub repository for Exercise-1.\n",
        "\n",
        "#### Done!\n",
        "\n",
        "That's it. Now you are ready to continue with Problem 3. "
      ]
    }
  ],
  "metadata": {
    "kernelspec": {
      "display_name": "Python 3 (ipykernel)",
      "language": "python",
      "name": "python3"
    },
    "language_info": {
      "codemirror_mode": {
        "name": "ipython",
        "version": 3
      },
      "file_extension": ".py",
      "mimetype": "text/x-python",
      "name": "python",
      "nbconvert_exporter": "python",
      "pygments_lexer": "ipython3",
      "version": "3.10.8"
    }
  },
  "nbformat": 4,
  "nbformat_minor": 4
}
